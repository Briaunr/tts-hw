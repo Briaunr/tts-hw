{
 "cells": [
  {
   "cell_type": "markdown",
   "id": "905df9b7",
   "metadata": {},
   "source": [
    "1. Guess a number between 1 to 9 given by the user"
   ]
  },
  {
   "cell_type": "code",
   "execution_count": 2,
   "id": "80dd872c",
   "metadata": {},
   "outputs": [
    {
     "name": "stdout",
     "output_type": "stream",
     "text": [
      "enter a number6\n",
      "Guess a number between 1 to 10 5\n",
      "Guess a number between 1 to 10 1\n",
      "Guess a number between 1 to 10 2\n",
      "Guess a number between 1 to 10 3\n",
      "Guess a number between 1 to 10 4\n",
      "Guess a number between 1 to 10 7\n",
      "Guess a number between 1 to 10 8\n",
      "Guess a number between 1 to 10 9\n",
      "Guess a number between 1 to 10 10\n",
      "Guess a number between 1 to 10 6\n",
      "Well guessed!\n"
     ]
    }
   ],
   "source": [
    "import random\n",
    "\n",
    "a=int(input(\"enter a number\")) \n",
    "\n",
    "b= random.randint(1, 10)\n",
    "\n",
    "while a!= b:\n",
    "\n",
    "    b= int(input('Guess a number between 1 to 10 '))\n",
    "\n",
    "print('Well guessed!')"
   ]
  },
  {
   "cell_type": "markdown",
   "id": "6c8e8c71",
   "metadata": {},
   "source": [
    "2. Check the validity of password input by the user.\n",
    "\n",
    "Validation:\n",
    "\n",
    "At least 1 letter between [a-z] and 1 letter between [A-Z]\n",
    "At least 1 number between [0-9]\n",
    "At least 1 character from [$#@]\n",
    "Minimum length 6 characters\n",
    "Maximum length 16 characters"
   ]
  },
  {
   "cell_type": "code",
   "execution_count": 6,
   "id": "b814336c",
   "metadata": {},
   "outputs": [
    {
     "name": "stdout",
     "output_type": "stream",
     "text": [
      "Input your password Password1@\n",
      "Valid Password\n"
     ]
    }
   ],
   "source": [
    "import re\n",
    "p= input(\"Input your password \")\n",
    "x = True\n",
    "while x:  \n",
    "    if (len(p)<6 or len(p)>16):\n",
    "        break\n",
    "    elif not re.search(\"[a-z]\",p):\n",
    "        break\n",
    "    elif not re.search(\"[0-9]\",p):\n",
    "        break\n",
    "    elif not re.search(\"[A-Z]\",p):\n",
    "        break\n",
    "    elif not re.search(\"[$#@]\",p):\n",
    "        break\n",
    "    elif re.search(\"\\s\",p):\n",
    "        break\n",
    "    else:\n",
    "        print(\"Valid Password\")\n",
    "        x=False\n",
    "        break\n",
    "\n",
    "if x:\n",
    "    print(\"Not a Valid Password\")"
   ]
  },
  {
   "cell_type": "markdown",
   "id": "5f4eac56",
   "metadata": {},
   "source": [
    "3. Get input of the age of 3 people by user and determine oldest and youngest among them"
   ]
  },
  {
   "cell_type": "code",
   "execution_count": 28,
   "id": "885e8ca1",
   "metadata": {},
   "outputs": [
    {
     "name": "stdout",
     "output_type": "stream",
     "text": [
      "enter your age 39\n",
      "enter another age 42\n",
      "enter another age 21\n"
     ]
    },
    {
     "data": {
      "text/plain": [
       "[42, 39, 21]"
      ]
     },
     "execution_count": 28,
     "metadata": {},
     "output_type": "execute_result"
    }
   ],
   "source": [
    "#Have user input 3 different ages \n",
    "p1=int(input(\"enter your age \")) \n",
    "p2=int(input(\"enter another age \")) \n",
    "p3=int(input(\"enter another age \")) \n",
    "#sort entered ages by oldest to youngest \n",
    "data = [p1, p2, p3]\n",
    "data.sort()\n",
    "sorted(data, reverse=True)"
   ]
  },
  {
   "cell_type": "markdown",
   "id": "effaa05b",
   "metadata": {},
   "source": [
    "4. A student will not be allowed to sit in exam if his/her attendance is less than 75%.\n",
    "\n",
    "Take following input from user\n",
    "\n",
    "Number of classes held\n",
    "Number of classes attended.\n",
    "And print\n",
    "percentage of class attended\n",
    "Is student is allowed to sit in exam or not?"
   ]
  },
  {
   "cell_type": "code",
   "execution_count": 56,
   "id": "95ae8106",
   "metadata": {},
   "outputs": [
    {
     "name": "stdout",
     "output_type": "stream",
     "text": [
      "enter number of classes held 50\n",
      "enter number of classes attended 25\n",
      "student is not allowed to sit in exam\n",
      "attendance percentage is: \n",
      "50.0\n"
     ]
    }
   ],
   "source": [
    "#have user enter number of classes held & attended \n",
    "held = float(input(\"enter number of classes held \"))\n",
    "attended = float(input(\"enter number of classes attended \"))\n",
    "#calculate attendance percentage; attend/held\n",
    "x = attended / held \n",
    "if x > 0.75:\n",
    "    print(\"student is allowed to sit in exam\")\n",
    "    print(\"attendance percentage is: \")\n",
    "elif x<0.75:\n",
    "    print(\"student is not allowed to sit in exam\")\n",
    "    print(\"attendance percentage is: \")\n",
    "#print attendance perceantage \n",
    "print(x*100)"
   ]
  },
  {
   "cell_type": "markdown",
   "id": "c5cdbe4b",
   "metadata": {},
   "source": [
    "5. Get an integer N from the user and perform the following actions:\n",
    "\n",
    "if N is odd, print \"weird\"\n",
    "if N is even and in the inclusive range of 2 to 5, print \"Not Weird\"\n",
    "if N is even and in the inclusive range of 6 to 20, print \"Weird\"\n",
    "if N is even and greater than 20, print \"Not Weird\""
   ]
  },
  {
   "cell_type": "code",
   "execution_count": 68,
   "id": "27f6ec5a",
   "metadata": {},
   "outputs": [
    {
     "name": "stdout",
     "output_type": "stream",
     "text": [
      "enter an integer 62\n",
      "Not wierd\n"
     ]
    }
   ],
   "source": [
    "#have user enter interger N\n",
    "N=int(input(\"enter an integer \")) \n",
    "#create if statement\n",
    "if N % 2 == 1: \n",
    "    print(\"weird\")\n",
    "elif N % 2 == 0 and range(2,5):\n",
    "    print(\"Not wierd\")\n",
    "elif N % 2 == 0 and range (6,20):\n",
    "    print(\"Weird\")\n",
    "else:\n",
    "    print(\"Not Weird\")"
   ]
  },
  {
   "cell_type": "markdown",
   "id": "8b31ef3f",
   "metadata": {},
   "source": [
    "## "
   ]
  }
 ],
 "metadata": {
  "kernelspec": {
   "display_name": "Python 3 (ipykernel)",
   "language": "python",
   "name": "python3"
  },
  "language_info": {
   "codemirror_mode": {
    "name": "ipython",
    "version": 3
   },
   "file_extension": ".py",
   "mimetype": "text/x-python",
   "name": "python",
   "nbconvert_exporter": "python",
   "pygments_lexer": "ipython3",
   "version": "3.9.12"
  }
 },
 "nbformat": 4,
 "nbformat_minor": 5
}
