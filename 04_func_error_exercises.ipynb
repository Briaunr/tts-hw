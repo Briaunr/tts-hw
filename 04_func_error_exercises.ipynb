{
 "cells": [
  {
   "cell_type": "markdown",
   "id": "69d5b932",
   "metadata": {},
   "source": [
    "Functions & Errors HakerRank Exercise 1"
   ]
  },
  {
   "cell_type": "code",
   "execution_count": 2,
   "id": "68a42f82",
   "metadata": {},
   "outputs": [
    {
     "name": "stdout",
     "output_type": "stream",
     "text": [
      "2019\n",
      "False\n"
     ]
    }
   ],
   "source": [
    "def is_leap(year):\n",
    "    leap = False\n",
    "    \n",
    "    # Write your logic here\n",
    "    if year % 400 == 0:\n",
    "        leap = True\n",
    "    elif year % 100 == 0:\n",
    "        leap = False\n",
    "    elif year % 4 == 0:\n",
    "        leap = True\n",
    "    \n",
    "    return leap\n",
    "\n",
    "year = int(input())\n",
    "print(is_leap(year))"
   ]
  },
  {
   "cell_type": "markdown",
   "id": "d70e53a9",
   "metadata": {},
   "source": [
    "Functions & Errors HakerRank Exercise 2"
   ]
  },
  {
   "cell_type": "code",
   "execution_count": null,
   "id": "29ccf143",
   "metadata": {},
   "outputs": [
    {
     "name": "stdout",
     "output_type": "stream",
     "text": [
      "9\n",
      "20\n",
      "Error Code: not enough values to unpack (expected 2, got 1)\n"
     ]
    }
   ],
   "source": [
    "    a = '1'\n",
    "    b = '0'\n",
    "#print int(a) / int(b)\n",
    "#ZeroDivisionError: integer division or modulo by zero\n",
    "T = int(input())\n",
    "for i in range(T):\n",
    "        try:\n",
    "            a,b = input().split()\n",
    "            print(int(a)//int(b))\n",
    "        except ZeroDivisionError as e:\n",
    "            print(\"Error Code:\",e)\n",
    "        except ValueError as v:\n",
    "            print(\"Error Code:\",v)"
   ]
  }
 ],
 "metadata": {
  "kernelspec": {
   "display_name": "Python 3 (ipykernel)",
   "language": "python",
   "name": "python3"
  },
  "language_info": {
   "codemirror_mode": {
    "name": "ipython",
    "version": 3
   },
   "file_extension": ".py",
   "mimetype": "text/x-python",
   "name": "python",
   "nbconvert_exporter": "python",
   "pygments_lexer": "ipython3",
   "version": "3.9.12"
  }
 },
 "nbformat": 4,
 "nbformat_minor": 5
}
