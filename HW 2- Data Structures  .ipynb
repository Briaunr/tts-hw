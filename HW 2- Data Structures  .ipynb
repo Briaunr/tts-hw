{
 "cells": [
  {
   "cell_type": "markdown",
   "id": "566a1a3f",
   "metadata": {},
   "source": [
    "1. Get a space-separated list of integers from the user, create a tuple of those integers. Then compute and print the result of hash(tuple).\n",
    "\n",
    "Documentation: hash():"
   ]
  },
  {
   "cell_type": "code",
   "execution_count": 52,
   "id": "33a9ceee",
   "metadata": {},
   "outputs": [
    {
     "name": "stdout",
     "output_type": "stream",
     "text": [
      "input integer: 5\n",
      "input integer: 3\n",
      "input integer: 4\n",
      "1779647168125380954\n"
     ]
    }
   ],
   "source": [
    "x1 = int(input(\"input integer: \"))\n",
    "x2 = int(input(\"input integer: \"))\n",
    "x3 = int(input(\"input integer: \"))\n",
    "\n",
    "t = (x1, x2, x3)\n",
    "hash(t)\n",
    "\n",
    "print(hash(t))"
   ]
  },
  {
   "cell_type": "markdown",
   "id": "2fa08369",
   "metadata": {},
   "source": [
    "2. Take the following two lists. Create a third list by picking a odd-index elements from the first list and even-index elements from the second.\n",
    "\n",
    "listOne = [3, 6, 9, 12, 15, 18, 21]\n",
    "listTwo = [4, 8, 12, 16, 20, 24, 28]"
   ]
  },
  {
   "cell_type": "code",
   "execution_count": 50,
   "id": "cf3d24b5",
   "metadata": {},
   "outputs": [
    {
     "name": "stdout",
     "output_type": "stream",
     "text": [
      "Element at odd-index positions from list one\n",
      "[6, 12, 18]\n",
      "Element at even-index positions from list two\n",
      "[4, 12, 20, 28]\n",
      "Printing Final third list\n",
      "[6, 12, 18, 4, 12, 20, 28]\n"
     ]
    }
   ],
   "source": [
    "listOne = [3, 6, 9, 12, 15, 18, 21] \n",
    "listTwo = [4, 8, 12, 16, 20, 24, 28]\n",
    "\n",
    "odd_elements = listOne[1::2]\n",
    "print(\"Element at odd-index positions from list one\")\n",
    "print(odd_elements)\n",
    "\n",
    "even_elements = listTwo[0::2]\n",
    "print(\"Element at even-index positions from list two\")\n",
    "print(even_elements)\n",
    "\n",
    "print(\"Printing Final third list\")\n",
    "print(listOne[1::2] + listTwo[0::2])"
   ]
  },
  {
   "cell_type": "markdown",
   "id": "bb7f74f4",
   "metadata": {},
   "source": [
    "3. Take the following list. Slice it into three equal chunks and reverse each list.\n",
    "\n",
    "sampleList = [11, 45, 8, 23, 14, 12, 78, 45, 89]"
   ]
  },
  {
   "cell_type": "code",
   "execution_count": 53,
   "id": "a60c804b",
   "metadata": {},
   "outputs": [
    {
     "name": "stdout",
     "output_type": "stream",
     "text": [
      "[8, 45, 11] [12, 14, 23] [89, 45, 78]\n"
     ]
    }
   ],
   "source": [
    "sampleList = [11, 45, 8, 23, 14, 12, 78, 45, 89]\n",
    "#first third of list\n",
    "sampleList1= sampleList[0:3]\n",
    "#second third of list\n",
    "sampleList2 = sampleList[3:6]\n",
    "#final third of list\n",
    "sampleList3 = sampleList[6:10]\n",
    "#reverse lists\n",
    "sampleList1.reverse()\n",
    "sampleList2.reverse()\n",
    "sampleList3.reverse()\n",
    "#print lists\n",
    "print (sampleList1, sampleList2, sampleList3)"
   ]
  },
  {
   "cell_type": "markdown",
   "id": "6d7ffed9",
   "metadata": {},
   "source": [
    "4. Iterate through a given list and check if a given element already exists in a dictionary as a key’s value. If not, delete it from the list.\n",
    "\n",
    "rollNumber = [47, 64, 69, 37, 76, 83, 95, 97]\n",
    "sampleDict ={'Zach':47, 'Emma':69, 'Kelly':76, 'Jason':97}\n"
   ]
  },
  {
   "cell_type": "code",
   "execution_count": 54,
   "id": "e049c869",
   "metadata": {},
   "outputs": [
    {
     "name": "stdout",
     "output_type": "stream",
     "text": [
      "[47, 69, 76, 97]\n"
     ]
    }
   ],
   "source": [
    "rollNumber = [47, 64, 69, 37, 76, 83, 95, 97]\n",
    "del rollNumber[1]\n",
    "del rollNumber[-5]\n",
    "del rollNumber[-3]\n",
    "del rollNumber[-2]\n",
    "\n",
    "print(rollNumber)\n",
    "sampleDict ={'Zach':47, 'Emma':69, 'Kelly':76, 'Jason':97}"
   ]
  }
 ],
 "metadata": {
  "kernelspec": {
   "display_name": "Python 3 (ipykernel)",
   "language": "python",
   "name": "python3"
  },
  "language_info": {
   "codemirror_mode": {
    "name": "ipython",
    "version": 3
   },
   "file_extension": ".py",
   "mimetype": "text/x-python",
   "name": "python",
   "nbconvert_exporter": "python",
   "pygments_lexer": "ipython3",
   "version": "3.9.12"
  }
 },
 "nbformat": 4,
 "nbformat_minor": 5
}
